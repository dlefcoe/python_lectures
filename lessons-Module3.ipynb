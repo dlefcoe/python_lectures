{
 "cells": [
  {
   "cell_type": "markdown",
   "metadata": {},
   "source": [
    "# Module 3\n",
    "\n",
    "- Strings & Boolean in Python\n",
    "    - boolean type is one of the built-in data types\n",
    "    - bool(): convert a value to a Boolean value\n",
    "- Working with Strings\n",
    "    - arrays of bytes (unicode)\n",
    "    - a single character is simply a string with a length of 1\n",
    "- Working with Booleans\n",
    "    - joining booleans \n",
    "- Integers & Floats\n",
    "- Working with Integers & Floats\n",
    "- Python Syntax\n",
    "- Python Variables"
   ]
  },
  {
   "cell_type": "code",
   "execution_count": 1,
   "metadata": {},
   "outputs": [
    {
     "name": "stdout",
     "output_type": "stream",
     "text": [
      "hello world\n",
      "True\n",
      "<class 'str'>\n",
      "this is the value of c: 10\n",
      "this is the value of d: 10.0\n",
      "this is a complex number (5+3j)\n",
      "<class 'str'>\n",
      "<class 'bool'>\n",
      "this is the type of c: <class 'int'>\n",
      "this is the type of d: <class 'float'>\n",
      "this is the type of d1: <class 'float'>\n",
      "this is the type of z: <class 'complex'>\n"
     ]
    }
   ],
   "source": [
    "# this is a single line comment\n",
    "\n",
    "# Type inference\n",
    "\n",
    "# string\n",
    "a = 'hello world'   # not very descriptive, but is concise\n",
    "my_string =  'hello world'  # descriptive (snake case = used in python)\n",
    "MyString =  'hello world'  # descriptive (camel case)\n",
    "my_String =  'hello world'  # descriptive (mixed case)\n",
    "\n",
    "# boolean\n",
    "b = True   # 0 or 1  ,  ON or OFF,    TRUE or FALSE\n",
    "the_lights_are_on = False  # descriptive variable\n",
    "\n",
    "# integer\n",
    "c = 10\n",
    "\n",
    "# floating point number (float)\n",
    "d = 10.0   # looks like an int, look more like a float\n",
    "d1 = 9.995   # definately not an int\n",
    "\n",
    "# complex\n",
    "z = complex(5,3)\n",
    "\n",
    "print(a)\n",
    "print(b)\n",
    "print(type(a))\n",
    "print('this is the value of c:', c)\n",
    "print('this is the value of d:', d)\n",
    "print('this is a complex number', z)\n",
    "\n",
    "print(type(a))\n",
    "print(type(b))\n",
    "print('this is the type of c:', type(c))\n",
    "print('this is the type of d:', type(d))\n",
    "print('this is the type of d1:', type(d1))\n",
    "print('this is the type of z:', type(z))\n",
    "\n"
   ]
  },
  {
   "cell_type": "code",
   "execution_count": 2,
   "metadata": {},
   "outputs": [
    {
     "name": "stdout",
     "output_type": "stream",
     "text": [
      "this is the boolean of hello world: True\n",
      "True\n",
      "True\n",
      "this is the string of aa: \n",
      "the value of is is the bool(aa): False\n",
      "this is the boolean of y: True\n",
      "this is the boolean of yy: True\n"
     ]
    }
   ],
   "source": [
    "# type casting\n",
    "\n",
    "# bool(): convert a value to a Boolean value\n",
    "# bool = True,  False  equiv: 1, 0\n",
    "\n",
    "\n",
    "# strings that are True\n",
    "print('this is the boolean of hello world:', bool('hello world') )\n",
    "print( bool('darren'))\n",
    "print( bool(a) )\n",
    "\n",
    "# string that is NOT True (False)\n",
    "aa = ''\n",
    "print('this is the string of aa:', aa)\n",
    "# x = bool('')\n",
    "x = bool(aa)\n",
    "print('the value of is is the bool(aa):', x)\n",
    "\n",
    "y = ' '\n",
    "y_bool = bool(' ')\n",
    "print('this is the boolean of y:', y_bool)\n",
    "\n",
    "yy = '       '\n",
    "yy_bool = bool('       ')\n",
    "print('this is the boolean of yy:', yy_bool)\n",
    "\n",
    "# https://sites.google.com/view/python-programming-01/basics/ascii\n"
   ]
  },
  {
   "cell_type": "code",
   "execution_count": 3,
   "metadata": {},
   "outputs": [
    {
     "name": "stdout",
     "output_type": "stream",
     "text": [
      "2\n",
      "True\n",
      "sting converted to bool + bool: 2\n",
      "string + converted bool: hello worldTrue\n",
      "20.35\n",
      "hello worldhello worldhello worldhello worldhello worldhello worldhello worldhello worldhello worldhello world\n",
      "--------------------------------------------------------------------------------\n"
     ]
    }
   ],
   "source": [
    "# join string with a Bool.\n",
    "\n",
    "# option 1:  convert the string to a bool\n",
    "## x = a + b   # this throws an error\n",
    "# print(a, b)\n",
    "x = bool(a) + b\n",
    "print(x)\n",
    "# True + True = 2   (True looks like 1, False looks like 0)\n",
    "# expecting True, but we got integer 2 instead\n",
    "print(bool(2)) # integer != 0,  will be True\n",
    "\n",
    "print('sting converted to bool + bool:', x)\n",
    "\n",
    "# option 2: convert the bool to a string\n",
    "x = a + str(b)\n",
    "print('string + converted bool:', x)\n",
    "\n",
    "# allowed variables of the SAME type.\n",
    "# string + string  :   concatination\n",
    "# bool + bool   :   logical operation\n",
    "\n",
    "# # NOT allowed\n",
    "# # string + bool  --> TypeError\n",
    "# # bool + string  --> TypeError\n",
    "\n",
    "# can we add an int with a float ?\n",
    "my_answer = 10 + 10.35\n",
    "print(my_answer)\n",
    "\n",
    "# print(10 + 'hello world')  # is an error\n",
    "# # int + string  --> TypeError\n",
    "print(10 * 'hello world')  # is allowed\n",
    "line = 80*'-'\n",
    "print(line)\n",
    "\n"
   ]
  },
  {
   "cell_type": "code",
   "execution_count": 4,
   "metadata": {},
   "outputs": [
    {
     "name": "stdout",
     "output_type": "stream",
     "text": [
      "False\n",
      "0.0\n"
     ]
    }
   ],
   "source": [
    "# an interesting point (exceeds the precission of the language)\n",
    "xx = 0.000000000000000000000000000000000000000000000000000000000000000000000000000000000000000000000000000000000000000000000000000000000000000000000000000000000000000000000000000000000000000000000000000000000000000000000000000000000000000000000000000000000000000000000000000000000000000000000000000000000000000000000000000000000001\n",
    "## xx = 10e-32  # scientific notation\n",
    "# https://python-reference.readthedocs.io/en/latest/docs/float/scientific.html\n",
    "x = bool(xx)\n",
    "print(x)\n",
    "\n",
    "print(xx * 1)"
   ]
  },
  {
   "cell_type": "code",
   "execution_count": 5,
   "metadata": {},
   "outputs": [
    {
     "name": "stdout",
     "output_type": "stream",
     "text": [
      "10\n",
      "<class 'int'>\n",
      "<class 'float'>\n"
     ]
    }
   ],
   "source": [
    "# typecasting to int\n",
    "d = 10.9\n",
    "c = int(d)\n",
    "# will y = x - int(x) return decimal part of it.   => yes\n",
    "# mention of round(x)  =>  reutrns 11\n",
    "\n",
    "print(c)  # >> 10\n",
    "print(type(c))  #  <class 'int'>    <class 'float'>\n",
    "print(type(d))"
   ]
  },
  {
   "cell_type": "code",
   "execution_count": 6,
   "metadata": {},
   "outputs": [
    {
     "name": "stdout",
     "output_type": "stream",
     "text": [
      "a aa aaaaaaaaaa\n",
      "this is the length of s0: 0\n",
      "this is the length of s00: 5\n",
      "this is the length of s1: 1\n",
      "this is the length of s2: 2\n",
      "this is the length of s3: 10\n",
      "this is the length of s4: 16\n"
     ]
    }
   ],
   "source": [
    "# this is a single line comment\n",
    "# this is a single line comment\n",
    "\n",
    "# white space in python is important\n",
    "\n",
    "''' \n",
    "\n",
    "this is a block comment (multi line comment)\n",
    "\n",
    "everything in this section is a comment for us !!\n",
    "the computer doesnt read it\n",
    "\n",
    "'''\n",
    "\n",
    "\n",
    "\n",
    "'''\n",
    "- Working with Strings\n",
    "    - arrays of bytes (unicode)\n",
    "    - a single character is simply a string with a length of 1\n",
    "'''\n",
    "\n",
    "\n",
    "\"\"\"\n",
    "\n",
    "this is also a block comment\n",
    "\n",
    "\"\"\"\n",
    "\n",
    "\n",
    "my_car = 'porsche'\n",
    "my_car = \"porsche\"\n",
    "\n",
    "# many strings\n",
    "s0 = ''  # empty string    ---> bool = False\n",
    "s00 = '     '  # --->   bool = True\n",
    "s1 = 'a'\n",
    "s2 = 'aa'\n",
    "s3 = 'aaaaaaaaaa'\n",
    "s4 = 'aaaa  aa    aaaa'\n",
    "\n",
    "print(s1, s2, s3)\n",
    "\n",
    "# length of a string\n",
    "print('this is the length of s0:', len(s0))\n",
    "print('this is the length of s00:', len(s00))\n",
    "print('this is the length of s1:', len(s1))\n",
    "print('this is the length of s2:', len(s2))\n",
    "print('this is the length of s3:', len(s3))\n",
    "print('this is the length of s4:', len(s4))\n",
    "\n"
   ]
  },
  {
   "cell_type": "code",
   "execution_count": 7,
   "metadata": {},
   "outputs": [
    {
     "name": "stdout",
     "output_type": "stream",
     "text": [
      "the result is: 1\n",
      "the result is: 2\n",
      "the result is: 4\n",
      "the type of x: <class 'int'>\n",
      "the result is: True\n",
      "the result is: 1\n",
      "the result is: True\n",
      "the result is: False ...line 52\n",
      "this is: True\n",
      "this is: False\n",
      "the result is: 1\n",
      "the result is: 0\n",
      "the result is: 0\n",
      "the result is: 0\n",
      "the result is: 0\n"
     ]
    }
   ],
   "source": [
    "# - Working with Booleans\n",
    "#     - joining booleans \n",
    "\n",
    "hello = True   # variable\n",
    "helloWorld = True # camel case \n",
    "helloworld = True # dont use this (not so clear)\n",
    "hello_world = True  # snake case (python convention for descriptive variables)\n",
    "hello_World = True  # mixed case\n",
    "Hello = True  # convention for a Class\n",
    "HELLO = True  # constant\n",
    "\n",
    "\n",
    "# join booleans\n",
    "b1 = True\n",
    "b2 = False\n",
    "\n",
    "#      \"=\"   means :  \"assigned the value of\"\n",
    "r = 'the result is:'\n",
    "x = b1 + b2   # same as  1 + 0\n",
    "print(r, x)\n",
    "\n",
    "b2 = True\n",
    "x = b1 + b2   # same as  1 + 1\n",
    "print(r, x)\n",
    "\n",
    "# adding bool    (two)  (parallel)\n",
    "# 1 + 1 = 2  bool(2) = True -> 1   (on)\n",
    "# 1 + 0 = 1  bool(1) = True -> 1   (on)  \n",
    "# 0 + 1 = 1  bool(1) = True -> 1   (on)\n",
    "# 0 + 0 = 0  bool(0) = False -> 0  (off)\n",
    "\n",
    "# longer combination of booleans\n",
    "x = b1 + b1 + b1 + b2\n",
    "print(r, x)\n",
    "print('the type of x:', type(x))\n",
    "x = bool(x)   # conver int -> bool\n",
    "print(r, x)\n",
    "\n",
    "# multiply bool (series)\n",
    "# 1 * 1 = 1  bool(1) = True -> 1   (on)\n",
    "# 1 * 0 = 0  bool(0) = False -> 0  (off)\n",
    "# 0 * 1 = 0  bool(0) = False -> 0  (off)\n",
    "# 0 * 0 = 0  bool(0) = False -> 0  (off)\n",
    "\n",
    "x = b1 * b1\n",
    "print(r, x)\n",
    "x = bool(x)\n",
    "print(r, x)\n",
    "\n",
    "b2 = False\n",
    "x = b1 * b1 * b2 * b1 * b1 * b1\n",
    "print(r, bool(x),  '...line 52')\n",
    "\n",
    "\n",
    "# convenient (pythonic) (unpacking)\n",
    "a, b, c, d = 1, True, 'hello', 99.999\n",
    "\n",
    "b1, b2 = True, False\n",
    "print('this is:', b1)\n",
    "print('this is:', b2)\n",
    "\n",
    "x = True * True\n",
    "print(r, x)\n",
    "x = True * False\n",
    "print(r, x)\n",
    "x = False * True\n",
    "print(r, x)\n",
    "x = False * False\n",
    "print(r, x)\n",
    "\n",
    "# extending\n",
    "x = True * False * True * True * True\n",
    "print(r, x)\n"
   ]
  },
  {
   "cell_type": "code",
   "execution_count": 8,
   "metadata": {},
   "outputs": [
    {
     "name": "stdout",
     "output_type": "stream",
     "text": [
      "the result is: 20.55\n",
      "the result type: <class 'float'>\n",
      "the result is: 100\n",
      "the result is: 100\n",
      "the result is: 105.5\n",
      "the result is: 1.0   - - - and the type is: <class 'float'>\n",
      "the result is: 0.947867298578199\n",
      "the result is: 14.285714285714286\n",
      "the result is: 14\n",
      "the result is: 14\n",
      "the result is: 14\n",
      "the result is: 14\n",
      "the result is: 2\n",
      "the fractional part: 0.2857142857142857\n"
     ]
    }
   ],
   "source": [
    "# - Integers & Floats\n",
    "r = 'the result is:'\n",
    "\n",
    "a = 10    # integer\n",
    "b = 10.55    # float\n",
    "\n",
    "# int + float --->  float\n",
    "x = a + b\n",
    "print(r, x)\n",
    "print('the result type:', type(x))\n",
    "\n",
    "x = a*a\n",
    "print(r, x)\n",
    "\n",
    "\n",
    "x, y = a*a, a*b\n",
    "print(r, x)\n",
    "print(r, y)\n",
    "\n",
    "x = a / a   # int / int --> float\n",
    "print(r, x, '  - - - and the type is:', type(x))\n",
    "\n",
    "x = a / b\n",
    "print(r, x)\n",
    "\n",
    "x = 100 / 7\n",
    "print(r, x)\n",
    "\n",
    "x = 100 / 7\n",
    "x = int(x)\n",
    "print(r, x)\n",
    "\n",
    "x = int(100 / 7)\n",
    "print(r, x)\n",
    "\n",
    "x = 100 / 7\n",
    "x = round(x)  #  <---  rounds to nearest number\n",
    "print(r, x)\n",
    "\n",
    "x = 100 // 7  # retain the integer part of the division\n",
    "print(r, x)\n",
    "\n",
    "x = (100 / 7) - int(100 / 7)\n",
    "\n",
    "x = 100 % 7   # gives the remainder (modulus operator)\n",
    "print(r, x)\n",
    "\n",
    "# the fractional bit is\n",
    "x = (100 % 7) / 7\n",
    "print('the fractional part:', x)\n",
    "\n"
   ]
  },
  {
   "cell_type": "code",
   "execution_count": 9,
   "metadata": {},
   "outputs": [
    {
     "data": {
      "text/plain": [
       "float"
      ]
     },
     "execution_count": 9,
     "metadata": {},
     "output_type": "execute_result"
    }
   ],
   "source": [
    "# the decimal place turns the type into an float\n",
    "b = 10.\n",
    "type(b)\n",
    "\n"
   ]
  },
  {
   "cell_type": "code",
   "execution_count": 6,
   "metadata": {},
   "outputs": [
    {
     "name": "stdout",
     "output_type": "stream",
     "text": [
      "the result is: 0.2857142857142865\n",
      "what is left over: 2\n",
      "go away... division by zero\n"
     ]
    }
   ],
   "source": [
    "# fraction\n",
    "r = 'the result is:'\n",
    "\n",
    "a = 100 / 7   # 14.285714285714286\n",
    "x = a - int(a)  # 14.285714285714286 - 14  = 0.285714285714286\n",
    "print(r, x)\n",
    "\n",
    "x = 100 % 7  # what is left over\n",
    "print('what is left over:', x)\n",
    "\n",
    "# x = 100/0\n",
    "\n",
    "try:\n",
    "    x = 100/0   # ZeroDivisionError\n",
    "    print(r, x)\n",
    "except Exception as e:\n",
    "    print('go away...', e)\n"
   ]
  },
  {
   "cell_type": "code",
   "execution_count": 7,
   "metadata": {},
   "outputs": [
    {
     "name": "stdout",
     "output_type": "stream",
     "text": [
      "the result is: 10 and the type is <class 'int'>\n",
      "the result is: hello and the type is <class 'str'>\n",
      "the result is hello and the type is <class 'str'>\n",
      "the result is False and the type is <class 'bool'>\n",
      "the result is 9.999 and the type is <class 'float'>\n"
     ]
    }
   ],
   "source": [
    "# - Working with Integers & Floats\n",
    "\n",
    "\n",
    "# - Python Syntax\n",
    "x, y = 100, 500                 # 2d space\n",
    "x, y, z = 10, 50, 75            # 3d space\n",
    "x, y, z, t = 10, 50, 75, 1000   # 4d space-time\n",
    "\n",
    "x1, y1 = 1, 5       # point 1\n",
    "x2, y2 = 3, 4       # point 2\n",
    "x3, y3 = 10, 50     # point 3\n",
    "\n",
    "# unpack (unpacking)\n",
    "x1, y1, x2, y2, x3, y3 = 1, 5, 3, 4, 10, 50\n",
    "\n",
    "a, b, c, d = 10, 'hello', False, 9.999\n",
    "# formatted string literals\n",
    "print(f'the result is: {a} and the type is {type(a)}') # f string\n",
    "print(r, b, 'and the type is', type(b))              # print a list\n",
    "print(f'the result is {b} and the type is {type(b)}')\n",
    "print(f'the result is {c} and the type is {type(c)}')\n",
    "print(f'the result is {d} and the type is {type(d)}')\n",
    "\n"
   ]
  },
  {
   "cell_type": "code",
   "execution_count": 12,
   "metadata": {},
   "outputs": [
    {
     "name": "stdout",
     "output_type": "stream",
     "text": [
      "x lives here 140729757787208\n",
      "y lives here 140729757787208\n",
      "x lives here 140729757787240\n",
      "z lives here 140729757787240\n",
      "z lives here 0x7ffe3338e468\n",
      "z lives here 0b11111111111111000110011001110001110010001101000\n",
      "x lives here: 140729756314824\n",
      "y lives here: 140729756314824\n",
      "z lives here: 140729756314824\n"
     ]
    }
   ],
   "source": [
    "# - Python Variables (in memory)\n",
    "x = 10\n",
    "y = x       # x and y are both assigned the value of 10\n",
    "x = y = 10  # x and y are both assigned the value of 10\n",
    "\n",
    "print('x lives here', id(x))\n",
    "print('y lives here', id(y))\n",
    "\n",
    "x = 11\n",
    "print('x lives here', id(x))\n",
    "z = 11\n",
    "print('z lives here', id(z))\n",
    "\n",
    "# the hex value\n",
    "print('z lives here', hex( id(z)  ))\n",
    "print('z lives here', bin( id(z)  ))\n",
    "\n",
    "# lets make them all none\n",
    "x, y, z = None, None, None\n",
    "print('x lives here:', id(x))\n",
    "print('y lives here:', id(y))\n",
    "print('z lives here:', id(z))\n",
    "\n"
   ]
  },
  {
   "cell_type": "code",
   "execution_count": 13,
   "metadata": {},
   "outputs": [
    {
     "name": "stdout",
     "output_type": "stream",
     "text": [
      "140729757786920\n",
      "140729757786920\n",
      "140729757786920\n",
      "140729757786920\n"
     ]
    }
   ],
   "source": [
    "x = y = 1\n",
    "\n",
    "print(id(x))\n",
    "print(id(y))\n",
    "\n",
    "z = 1\n",
    "\n",
    "print(id(z))\n",
    "\n",
    "p = 5 - 4\n",
    "\n",
    "print(id(p))\n",
    "\n",
    "\n",
    "# mutable - int, string, float, bool\n",
    "# immutable - lists, dicts\n",
    "\n"
   ]
  },
  {
   "cell_type": "code",
   "execution_count": 11,
   "metadata": {},
   "outputs": [
    {
     "name": "stdout",
     "output_type": "stream",
     "text": [
      "hello darren\n",
      "you are 30 years old\n"
     ]
    }
   ],
   "source": [
    "# how to input values\n",
    "x = input('please type your name: ')\n",
    "result = 'hello ' + x\n",
    "print(result)\n",
    "\n",
    "x = input('please enter you age: ')\n",
    "result = f'you are {x} years old'\n",
    "print(result)\n",
    "\n"
   ]
  },
  {
   "cell_type": "code",
   "execution_count": 18,
   "metadata": {},
   "outputs": [
    {
     "name": "stdout",
     "output_type": "stream",
     "text": [
      "30\n",
      "you are 8.25 shorter than 10 meters\n"
     ]
    }
   ],
   "source": [
    "# a simple calculator that multiplys a number by 10\n",
    "x = input('put in a start number: ')\n",
    "result = 10 * int(x)    # <-- we need to cast to an int\n",
    "print(result)\n",
    "\n",
    "\n",
    "# lets get our height (in meters)\n",
    "x = input('how tall are you (in meters): ')\n",
    "y = 10 - float(x)       # <-- we need to cast to an float\n",
    "print(f'you are {y} shorter than 10 meters.')\n",
    "\n"
   ]
  }
 ],
 "metadata": {
  "kernelspec": {
   "display_name": "Python 3",
   "language": "python",
   "name": "python3"
  },
  "language_info": {
   "codemirror_mode": {
    "name": "ipython",
    "version": 3
   },
   "file_extension": ".py",
   "mimetype": "text/x-python",
   "name": "python",
   "nbconvert_exporter": "python",
   "pygments_lexer": "ipython3",
   "version": "3.11.1"
  },
  "orig_nbformat": 4,
  "vscode": {
   "interpreter": {
    "hash": "1682e5d06a6d97c1b1cf6bb4ae6cf16223e994936ddb1d53664597d7d46101fa"
   }
  }
 },
 "nbformat": 4,
 "nbformat_minor": 2
}
