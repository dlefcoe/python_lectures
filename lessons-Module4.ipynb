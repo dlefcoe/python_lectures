{
 "cells": [
  {
   "attachments": {},
   "cell_type": "markdown",
   "metadata": {},
   "source": [
    "# Module 4\n",
    "\n",
    "- Python Data Structures\n",
    "  - containers that organise data\n",
    "- Lists, Tuples, Sets & Dictionaries\n",
    "  - make empty list\n",
    "  - indexing from 0,1,2,3 \n",
    "- Working with Lists\n",
    "- Working with Tuples\n",
    "- Working with Sets\n",
    "- Working with Dictionaries"
   ]
  },
  {
   "cell_type": "code",
   "execution_count": 59,
   "metadata": {},
   "outputs": [
    {
     "name": "stdout",
     "output_type": "stream",
     "text": [
      "[1, 0, 'hello', True, False, 150.001, 30, 'hello']\n",
      "2\n",
      "[1, 0, 'hello', True, False, 150.001, 30, 'hello', 100]\n",
      "['hello world', 1, 'hello', True, False, 150.001, 30, 'hello', 100]\n",
      "['hello world', 1, True, False, 150.001, 30, 'hello', 100]\n"
     ]
    }
   ],
   "source": [
    "'''\n",
    "\n",
    "Data structures are \"containers\" that organize and group data\n",
    "[according to type]\n",
    "\n",
    "'''\n",
    "\n",
    "# define a list\n",
    "# L = [0,1,2,3,4]\n",
    "\n",
    "x = [1, 2, 3, 4, 5]\n",
    "x = [1, 0, 'hello', True, False, 150.001, 30, 'hello']\n",
    "\n",
    "print(x)\n",
    "\n",
    "\n",
    "the_index = x.index('hello')\n",
    "print(the_index)\n",
    "\n",
    "\n",
    "# we can append the list\n",
    "x.append(100)\n",
    "print(x)\n",
    "\n",
    "# we can insert an item into the list at a given position\n",
    "x.insert(0, 'hello world')\n",
    "\n",
    "# we can remove (pop) items from the list (by index)\n",
    "x.pop(2)\n",
    "print(x)\n",
    "\n",
    "# remove items from list (by value)\n",
    "\n",
    "try:\n",
    "    x.remove('hello')\n",
    "    print(x)\n",
    "except Exception as e:\n",
    "    print('does not exist...')\n",
    "    print('the error was:', e)\n",
    "\n",
    "\n",
    "# we can \"insert\" with negative indexing\n",
    "x.insert(-1, 'hi there')\n"
   ]
  },
  {
   "cell_type": "code",
   "execution_count": 55,
   "metadata": {},
   "outputs": [
    {
     "name": "stdout",
     "output_type": "stream",
     "text": [
      "[1, 0, ['a', 100, ['l', 'm', 'n']], True, False, 150.001, 30, 'hello', 102, \"hello there ['hello world', 1, True, False, 150.001, 30, 'hello', 'hi there', 100]\", 100, False]\n",
      "index 5 (item 6): 150.001\n",
      "index 5 (item 7): 30\n",
      "the is the last element False\n",
      "the third last element hello there ['hello world', 1, True, False, 150.001, 30, 'hello', 'hi there', 100]\n",
      "position of list in memory 2463748588352\n",
      "position of a[5] in memory 2463747964624\n",
      "position of a[6] in memory 140729757787848\n",
      "position of a[4] in memory 140729756261256\n",
      "position of a[-1] in memory 140729756261256\n",
      "m\n",
      "o\n",
      "o\n"
     ]
    }
   ],
   "source": [
    "# list, array, tuples, and dictionary\n",
    "\n",
    "a = [['a','b','c'], [1,2,3], [10,20,30]]   # 2d list (array)\n",
    "# a very ugly list (poor practice, only for example)\n",
    "a = [1, 0, ['a',100,['l', 'm', 'n']], True, False, 150.001, 30, 'hello',\n",
    "      102, f'hello there {x}', 100, False]\n",
    "print(a)\n",
    "\n",
    "\n",
    "print('index 5 (item 6):', a[5])\n",
    "print('index 5 (item 7):', a[6])\n",
    "print('the is the last element', a[-1])  # negative indexing\n",
    "print('the third last element', a[-3])  # negative indexing\n",
    "\n",
    "print('position of list in memory', id(a))\n",
    "print('position of a[5] in memory',id(a[5]))\n",
    "print('position of a[6] in memory',id(a[6]))\n",
    "print('position of a[4] in memory',id(a[4]))\n",
    "print('position of a[-1] in memory',id(a[-1]))\n",
    "\n",
    "# so how do i pull 100 or n from this list within list through index number\n",
    "print(a[2][2][1])  # should print m\n",
    "\n",
    "# lets get the hello from the ugly list (and extract the 'o')\n",
    "print(  a[7][4] )\n",
    "print(  a[7][-1] )\n",
    "\n",
    "\n",
    "# changeable, and allow duplicate values\n",
    "# Indexing starts from 0,1,2,3 onwards   ... -3, -2, -1\n"
   ]
  },
  {
   "cell_type": "code",
   "execution_count": 86,
   "metadata": {},
   "outputs": [
    {
     "name": "stdout",
     "output_type": "stream",
     "text": [
      "the length of our list: 0\n",
      "our list: []\n",
      "no items in the list\n",
      "anything in the list: False\n",
      "anything in the list: 0\n",
      "anything in the list: True\n"
     ]
    }
   ],
   "source": [
    "\n",
    "a = [] # this is an empty list\n",
    "print('the length of our list:', len(a))\n",
    "print('our list:', a)\n",
    "\n",
    "# len list is not null  (!= 0,  ==0,  <>0))\n",
    "if len(a) > 0:\n",
    "    print('there are items in the list')\n",
    "else:\n",
    "    print('no items in the list')\n",
    "\n",
    "print('anything in the list:', bool(a))\n",
    "print('anything in the list:', len(a))\n",
    "\n",
    "# a = a + ['hello', 'world']\n",
    "a.extend(['hello', 'world'])\n",
    "print('anything in the list:', bool(a))\n",
    "\n",
    "\n"
   ]
  },
  {
   "cell_type": "code",
   "execution_count": 82,
   "metadata": {},
   "outputs": [
    {
     "name": "stdout",
     "output_type": "stream",
     "text": [
      "[] <class 'str'>\n",
      "None <class 'str'>\n",
      "[] <class 'list'>\n"
     ]
    }
   ],
   "source": [
    "# If you convert [] to string, will it show as None?\n",
    "a = []\n",
    "b = str(a)\n",
    "print(b, type(b))\n",
    "\n",
    "# --> no, it is typecasted to a string !\n",
    "\n",
    "# Is str(None) permitted?\n",
    "print(str(None), type(str(None)))\n",
    "\n",
    "print(a, type(a))\n"
   ]
  },
  {
   "cell_type": "code",
   "execution_count": 100,
   "metadata": {},
   "outputs": [
    {
     "name": "stdout",
     "output_type": "stream",
     "text": [
      "(100, 200)\n",
      "100 200\n",
      "['hi', 'world']\n",
      "['world']\n",
      "an error message: 'tuple' object does not support item assignment\n",
      "the day is Sunday\n"
     ]
    }
   ],
   "source": [
    "# tuple\n",
    "x = ()          # curved brackets or parenthesis\n",
    "x = (100,200)   # fixed numer of elements\n",
    "\n",
    "print(x)\n",
    "\n",
    "print(x[0], x[1])\n",
    "\n",
    "\n",
    "y = []  #list - different number of elements\n",
    "y.append('hi')\n",
    "y.append('world')\n",
    "print(y)\n",
    "y.pop(0)\n",
    "print(y)\n",
    "# the tuple does not allow any changes like the list\n",
    "# the old methods available are count() and index()\n",
    "\n",
    "try:\n",
    "    x[0] = 5\n",
    "except Exception as e:\n",
    "    print('an error message:', e) \n",
    "\n",
    "\n",
    "PI = 3.14159\n",
    "NATURAL_NUMBER = 2.718\n",
    "\n",
    "const = (3.14159, 2.718)\n",
    "days_of_week = (\n",
    "    'Sunday', 'Monday', 'Tuesday', 'Wednesday', \n",
    "    'Thursday', 'Friday', 'Saturday')\n",
    "\n",
    "print(f'the day is {days_of_week[0]}')\n",
    "\n"
   ]
  },
  {
   "cell_type": "code",
   "execution_count": 104,
   "metadata": {},
   "outputs": [
    {
     "name": "stdout",
     "output_type": "stream",
     "text": [
      "position in memory 2463749210624\n",
      "position in memory 2463749225472\n",
      "['hello']\n"
     ]
    }
   ],
   "source": [
    "# change the value in a tuple\n",
    "x = (100,200)\n",
    "print('position in memory', id(x))\n",
    "x = ('hello', 'world')\n",
    "print('position in memory', id(x))\n",
    "\n",
    "\n",
    "# x[0] = 100  # not allowed\n",
    "# # print(x)\n",
    "\n",
    "\n",
    "# can we add values in tuples using user input?\n",
    "# no\n",
    "\n",
    "# ...but we can input into lists.\n",
    "x = []\n",
    "result = input('put in a value: ')\n",
    "x.append(result)\n",
    "print(x)\n",
    "\n",
    "# so in lists it will change but it wont change in tuples?\n"
   ]
  },
  {
   "cell_type": "code",
   "execution_count": 108,
   "metadata": {},
   "outputs": [
    {
     "name": "stdout",
     "output_type": "stream",
     "text": [
      "{'a', 'b'}\n",
      "['a', 'b']\n",
      "{'Apple', 'Banana', 'Orange'}\n",
      "<class 'set'>\n",
      "{'Apple', 'Banana', 'Orange'}\n",
      "{'banana', 'Banana', 'Apple', 'Orange'}\n"
     ]
    }
   ],
   "source": [
    "# define a set\n",
    "x = set(['a', 'b', 'b'])\n",
    "print(x)\n",
    "\n",
    "'''\n",
    "Build an unordered collection of unique elements.\n",
    "-------------------------------------------------\n",
    "Sets are used to store multiple items in a single variable.\n",
    "Set is one of 4 built-in data types in Python: list, tuple, set, dict\n",
    "A set is a collection which is unordered, unchangeable*, and unindexed.\n",
    "* Note: Set items are unchangeable, but you can remove items and add new items.\n",
    "'''\n",
    "\n",
    "x = ['a', 'b', 'b']\n",
    "y = []\n",
    "for i in x: \n",
    "    if i not in y:  \n",
    "        y.append(i) \n",
    "\n",
    "print(y)\n",
    "\n",
    "x = {'Apple' , 'Orange' , 'Banana'}\n",
    "print(x)\n",
    "print(type(x))\n",
    "\n",
    "# No duplicates allowed in set\n",
    "# the items in a set are unique (only occur once)\n",
    "x = {'Apple' , 'Orange' , 'Banana', 'Banana', 'Banana'}\n",
    "print(x)\n",
    "\n",
    "my_list = ['Apple' , 'Orange', 'Banana', 'banana', 'Banana', 'Orange']\n",
    "x = set(my_list)\n",
    "print(x)\n",
    "\n"
   ]
  },
  {
   "cell_type": "code",
   "execution_count": null,
   "metadata": {},
   "outputs": [],
   "source": [
    "result = input('type something: ')\n",
    "\n",
    "x = 'hello'\n",
    "\n",
    "if result.lower() == x:\n",
    "    print('they are the same')\n",
    "\n",
    "\n",
    "y = x.capitalize()\n",
    "print(y)\n",
    "\n",
    "z = x.upper()\n",
    "print(z)\n"
   ]
  },
  {
   "cell_type": "code",
   "execution_count": null,
   "metadata": {},
   "outputs": [],
   "source": [
    "# define a dict {key:value}\n",
    "d = {}   # empty dictionary (dict)\n",
    "print(type(d))\n",
    "\n",
    "cars = {\n",
    "    'car make':'honda', \n",
    "    'car model':'accord', \n",
    "    'car year':2022,\n",
    "    'miles': 50_000\n",
    "    }\n",
    "\n",
    "d = {'car make':'honda', 'car model':'accord', 'car year':2022, 'a':[], 1000:{}}\n",
    "print(cars)\n",
    "print(d)\n",
    "\n",
    "# ld = ['hello', 'world', True, 149.99]\n",
    "# d = {0:'hello', 1: 'world', 2: True, 3:149.99}\n",
    "\n",
    "# print('index:value pairs for the enumerated list')\n",
    "# for i, v in enumerate(ld):\n",
    "#     print(i, v)\n",
    "\n",
    "# print('key:value pairs for the dict')\n",
    "# for k, v in d.items():\n",
    "#     print(k,v)\n",
    "\n",
    "# get values from dict\n",
    "print('the car make is:', d['car make'])\n",
    "print(d['car year'])\n",
    "\n",
    "d = {100:'hello', 200:'world'}\n",
    "print(d[100] + ' ' + d[200])\n",
    "\n",
    "# type inference\n",
    "a = 100  # integer\n",
    "d = dict()   # dict\n",
    "print(type(a))\n",
    "print(type(d))\n",
    "\n",
    "\n",
    "# int, bools, strings, floats, complex   <---- native types\n",
    "# list [[{}]], tuples (), sets, dicts {[{}]}   <---- collections"
   ]
  },
  {
   "cell_type": "code",
   "execution_count": null,
   "metadata": {},
   "outputs": [],
   "source": [
    "# Is duplicate allowed in the value?\n",
    "# yes\n",
    "\n",
    "\n",
    "equities = {'tsla':100, 'f':250, 'gm':250, 'gm':300}\n",
    "print(equities)\n",
    "\n",
    "\n",
    "equities_1 = {'tsla':100, 'f':250, 'gm':250, 'gm':300}\n",
    "equities_2 = {'barc':100, 'lloy':300, 'bdev':250, 'gm':350}\n",
    "\n",
    "# z = equities_1 + equities_2   # (addition is not allowed)\n",
    "z = equities_1 | equities_2\n",
    "print(equities_1)\n",
    "print(z)\n",
    "\n",
    "equities_1['bt'] = 200\n",
    "print(equities_1)\n",
    "\n",
    "# can we use two list inside dictionary and repeat car manufacture name with different value?\n",
    "d = {'list 1':['a','b','c'], 'list 2':['hello', 100, True, True]}\n",
    "# print(d)\n",
    "\n",
    "# d.pop('list 1')\n",
    "# print(d)\n",
    "print('call the whole list:', d['list 1'])\n",
    "print('the item itself', d['list 2'][1])\n",
    "\n",
    "# can we make JSON format from dictionary?\n",
    "\n"
   ]
  },
  {
   "cell_type": "code",
   "execution_count": null,
   "metadata": {},
   "outputs": [],
   "source": [
    "# list correction\n",
    "\n",
    "x = ['hello', 100, 25.555, True]\n",
    "y = x\n",
    "\n",
    "print(x)\n",
    "print(y)\n",
    "\n",
    "\n",
    "# both have the same id\n",
    "print(id(x))\n",
    "print(id(y))\n",
    "\n",
    "x.append(True)\n",
    "print(x)\n",
    "print(y)\n",
    "\n",
    "# we see that y has been appended too !!!\n",
    "print(id(x))\n",
    "print(id(y))\n"
   ]
  },
  {
   "cell_type": "code",
   "execution_count": null,
   "metadata": {},
   "outputs": [],
   "source": [
    "# the way of avoiding the above immutability is by creaating a copy.\n",
    "x = ['hello', 100, 25.555, True]\n",
    "y = x.copy()\n",
    "# y = x[:]   # slicing is an alternative way of copying a list\n",
    "print(x)\n",
    "print(y)\n",
    "print(id(x))\n",
    "print(id(y))\n",
    "\n",
    "\n",
    "x.append(True)\n",
    "print(x)\n",
    "print(y)\n"
   ]
  },
  {
   "cell_type": "code",
   "execution_count": null,
   "metadata": {},
   "outputs": [],
   "source": [
    "a = [1,2,3]\n",
    "b = ['a', 'b', 'c', 1, 2, 3]\n",
    "\n",
    "z = a + b\n",
    "print(type(z))\n",
    "z = set(z)\n",
    "print(z)\n",
    "print(type(z))\n",
    "\n",
    "\n",
    "y = z.copy()\n",
    "print(id(y))\n",
    "print(id(z))\n",
    "\n"
   ]
  },
  {
   "cell_type": "code",
   "execution_count": null,
   "metadata": {},
   "outputs": [],
   "source": [
    "# how to merge dicts\n",
    "\n",
    "equities_1 = {'tsla':100, 'f':250, 'gm':250, 'gm':300}\n",
    "equities_2 = {'barc':100, 'lloy':300, 'bdev':250, 'gm':400}\n",
    "\n",
    "# python 3.9\n",
    "all = equities_1 | equities_2\n",
    "print(all)\n",
    "\n",
    "# or alternatively\n",
    "all = equities_1.copy()\n",
    "all.update(equities_2)\n",
    "print(all)\n",
    "\n"
   ]
  }
 ],
 "metadata": {
  "kernelspec": {
   "display_name": "Python 3",
   "language": "python",
   "name": "python3"
  },
  "language_info": {
   "codemirror_mode": {
    "name": "ipython",
    "version": 3
   },
   "file_extension": ".py",
   "mimetype": "text/x-python",
   "name": "python",
   "nbconvert_exporter": "python",
   "pygments_lexer": "ipython3",
   "version": "3.11.1"
  },
  "orig_nbformat": 4,
  "vscode": {
   "interpreter": {
    "hash": "1682e5d06a6d97c1b1cf6bb4ae6cf16223e994936ddb1d53664597d7d46101fa"
   }
  }
 },
 "nbformat": 4,
 "nbformat_minor": 2
}
